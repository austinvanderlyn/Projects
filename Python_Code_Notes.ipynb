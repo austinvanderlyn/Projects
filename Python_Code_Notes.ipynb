{
  "nbformat": 4,
  "nbformat_minor": 0,
  "metadata": {
    "colab": {
      "provenance": [],
      "authorship_tag": "ABX9TyOVKjQvrzH5y5fOXe0HQBAT",
      "include_colab_link": true
    },
    "kernelspec": {
      "name": "python3",
      "display_name": "Python 3"
    },
    "language_info": {
      "name": "python"
    }
  },
  "cells": [
    {
      "cell_type": "markdown",
      "metadata": {
        "id": "view-in-github",
        "colab_type": "text"
      },
      "source": [
        "<a href=\"https://colab.research.google.com/github/austinvanderlyn/Projects/blob/master/Python_Code_Notes.ipynb\" target=\"_parent\"><img src=\"https://colab.research.google.com/assets/colab-badge.svg\" alt=\"Open In Colab\"/></a>"
      ]
    },
    {
      "cell_type": "code",
      "execution_count": 1,
      "metadata": {
        "id": "kseL7Gu0CGvD",
        "colab": {
          "base_uri": "https://localhost:8080/"
        },
        "outputId": "f471d364-658f-487e-f693-cdb54023d26b"
      },
      "outputs": [
        {
          "output_type": "execute_result",
          "data": {
            "text/plain": [
              "int"
            ]
          },
          "metadata": {},
          "execution_count": 1
        }
      ],
      "source": [
        "x = 5\n",
        "type(x)"
      ]
    },
    {
      "cell_type": "code",
      "source": [
        "y = 5.5\n",
        "type(y)"
      ],
      "metadata": {
        "colab": {
          "base_uri": "https://localhost:8080/"
        },
        "id": "WNxApcMAC_E8",
        "outputId": "d99171bf-b7f2-4deb-f42a-161e94c7e558"
      },
      "execution_count": 2,
      "outputs": [
        {
          "output_type": "execute_result",
          "data": {
            "text/plain": [
              "float"
            ]
          },
          "metadata": {},
          "execution_count": 2
        }
      ]
    },
    {
      "cell_type": "code",
      "source": [
        "x = 5*5\n",
        "type(x)"
      ],
      "metadata": {
        "colab": {
          "base_uri": "https://localhost:8080/"
        },
        "id": "M6zGVr-IDDA6",
        "outputId": "a6efd20a-03ca-42b4-be79-899757af5040"
      },
      "execution_count": 3,
      "outputs": [
        {
          "output_type": "execute_result",
          "data": {
            "text/plain": [
              "int"
            ]
          },
          "metadata": {},
          "execution_count": 3
        }
      ]
    },
    {
      "cell_type": "code",
      "source": [
        "y = 5/5\n",
        "type(y)"
      ],
      "metadata": {
        "colab": {
          "base_uri": "https://localhost:8080/"
        },
        "id": "HTtVWoNsDTtS",
        "outputId": "bdc242e9-9a27-4466-a8e5-3e8785675d28"
      },
      "execution_count": 4,
      "outputs": [
        {
          "output_type": "execute_result",
          "data": {
            "text/plain": [
              "float"
            ]
          },
          "metadata": {},
          "execution_count": 4
        }
      ]
    },
    {
      "cell_type": "code",
      "source": [
        "x = 5/5\n",
        "type(x)"
      ],
      "metadata": {
        "colab": {
          "base_uri": "https://localhost:8080/"
        },
        "id": "exsGz4RhDZfY",
        "outputId": "864a3361-5b4e-4991-8c3b-b5d1d9a8954a"
      },
      "execution_count": 5,
      "outputs": [
        {
          "output_type": "execute_result",
          "data": {
            "text/plain": [
              "float"
            ]
          },
          "metadata": {},
          "execution_count": 5
        }
      ]
    },
    {
      "cell_type": "code",
      "source": [
        "y = int(x)\n",
        "type(y)"
      ],
      "metadata": {
        "colab": {
          "base_uri": "https://localhost:8080/"
        },
        "id": "ByGeJVrSDfUo",
        "outputId": "0f40614c-3b17-4bf7-f541-8bcf965181fa"
      },
      "execution_count": 6,
      "outputs": [
        {
          "output_type": "execute_result",
          "data": {
            "text/plain": [
              "int"
            ]
          },
          "metadata": {},
          "execution_count": 6
        }
      ]
    },
    {
      "cell_type": "code",
      "source": [
        "z = str(y)\n",
        "type(z)"
      ],
      "metadata": {
        "colab": {
          "base_uri": "https://localhost:8080/"
        },
        "id": "jxsY_PhXDiL1",
        "outputId": "02a6c887-bf54-43b0-b26e-a7d3f9d7d3a8"
      },
      "execution_count": 7,
      "outputs": [
        {
          "output_type": "execute_result",
          "data": {
            "text/plain": [
              "str"
            ]
          },
          "metadata": {},
          "execution_count": 7
        }
      ]
    },
    {
      "cell_type": "code",
      "source": [
        "some_list = [1, 2, 'something', 6.2, [\"another\", \"list!\"], 7321]\n",
        "print(some_list[3])\n",
        "type(some_list)"
      ],
      "metadata": {
        "colab": {
          "base_uri": "https://localhost:8080/"
        },
        "id": "PGTKq0jFDl6T",
        "outputId": "93048ff2-616c-4aeb-fbad-2a3b001e3e8f"
      },
      "execution_count": 8,
      "outputs": [
        {
          "output_type": "stream",
          "name": "stdout",
          "text": [
            "6.2\n"
          ]
        },
        {
          "output_type": "execute_result",
          "data": {
            "text/plain": [
              "list"
            ]
          },
          "metadata": {},
          "execution_count": 8
        }
      ]
    },
    {
      "cell_type": "code",
      "source": [
        "some_set = {1, 1, 1, 1, 1, 86, \"something\", 73}\n",
        "some_set.add(1)\n",
        "print(some_set)\n",
        "type(some_set)"
      ],
      "metadata": {
        "colab": {
          "base_uri": "https://localhost:8080/"
        },
        "id": "wuYIi1D3EVLc",
        "outputId": "71590e99-42f5-48b2-acbf-b8338a07c162"
      },
      "execution_count": 9,
      "outputs": [
        {
          "output_type": "stream",
          "name": "stdout",
          "text": [
            "{73, 1, 'something', 86}\n"
          ]
        },
        {
          "output_type": "execute_result",
          "data": {
            "text/plain": [
              "set"
            ]
          },
          "metadata": {},
          "execution_count": 9
        }
      ]
    },
    {
      "cell_type": "code",
      "source": [
        "some_dict = {\"key\": \"value\", \"another_key\": [1, 3, 4], 3: [\"this\", \"value\"]}\n",
        "print(some_dict[\"another_key\"])\n",
        "type(some_dict)"
      ],
      "metadata": {
        "colab": {
          "base_uri": "https://localhost:8080/"
        },
        "id": "34vqmG44EzSz",
        "outputId": "a2735cd9-81a1-4199-96d8-774f628b69b0"
      },
      "execution_count": 10,
      "outputs": [
        {
          "output_type": "stream",
          "name": "stdout",
          "text": [
            "[1, 3, 4]\n"
          ]
        },
        {
          "output_type": "execute_result",
          "data": {
            "text/plain": [
              "dict"
            ]
          },
          "metadata": {},
          "execution_count": 10
        }
      ]
    },
    {
      "cell_type": "code",
      "source": [
        "print(some_list)"
      ],
      "metadata": {
        "colab": {
          "base_uri": "https://localhost:8080/"
        },
        "id": "uzYCR805FVKb",
        "outputId": "68a03617-206b-42b9-c0c6-a4c1bfdc1aec"
      },
      "execution_count": 11,
      "outputs": [
        {
          "output_type": "stream",
          "name": "stdout",
          "text": [
            "[1, 2, 'something', 6.2, ['another', 'list!'], 7321]\n"
          ]
        }
      ]
    },
    {
      "cell_type": "code",
      "source": [
        "index = 0\n",
        "print(some_list[index])"
      ],
      "metadata": {
        "colab": {
          "base_uri": "https://localhost:8080/"
        },
        "id": "P1wFP-gVTy11",
        "outputId": "a38bed74-a7df-407c-b17e-51814c7cf940"
      },
      "execution_count": 12,
      "outputs": [
        {
          "output_type": "stream",
          "name": "stdout",
          "text": [
            "1\n"
          ]
        }
      ]
    },
    {
      "cell_type": "code",
      "source": [
        "start = 0\n",
        "end = 3\n",
        "print(some_list[start:end])"
      ],
      "metadata": {
        "colab": {
          "base_uri": "https://localhost:8080/"
        },
        "id": "aRBcfXx5T46G",
        "outputId": "028793a2-3724-4e37-a995-182cfae5e6d0"
      },
      "execution_count": 13,
      "outputs": [
        {
          "output_type": "stream",
          "name": "stdout",
          "text": [
            "[1, 2, 'something']\n"
          ]
        }
      ]
    },
    {
      "cell_type": "code",
      "source": [
        "print(some_list[:end])"
      ],
      "metadata": {
        "colab": {
          "base_uri": "https://localhost:8080/"
        },
        "id": "6Bu7zXZST_Dv",
        "outputId": "815b8720-4988-4258-931e-22c5026a3dfb"
      },
      "execution_count": 14,
      "outputs": [
        {
          "output_type": "stream",
          "name": "stdout",
          "text": [
            "[1, 2, 'something']\n"
          ]
        }
      ]
    },
    {
      "cell_type": "code",
      "source": [
        "start = 1\n",
        "print(some_list[start:])"
      ],
      "metadata": {
        "colab": {
          "base_uri": "https://localhost:8080/"
        },
        "id": "U1LHeU5LUCyJ",
        "outputId": "7712c89f-fe22-400d-bef3-daa0f837418d"
      },
      "execution_count": 15,
      "outputs": [
        {
          "output_type": "stream",
          "name": "stdout",
          "text": [
            "[2, 'something', 6.2, ['another', 'list!'], 7321]\n"
          ]
        }
      ]
    },
    {
      "cell_type": "code",
      "source": [
        "for item in some_list:\n",
        "  print(item)"
      ],
      "metadata": {
        "colab": {
          "base_uri": "https://localhost:8080/"
        },
        "id": "WPEHbtTaUJYi",
        "outputId": "f8657399-e710-455c-8435-aade3f00d8e7"
      },
      "execution_count": 16,
      "outputs": [
        {
          "output_type": "stream",
          "name": "stdout",
          "text": [
            "1\n",
            "2\n",
            "something\n",
            "6.2\n",
            "['another', 'list!']\n",
            "7321\n"
          ]
        }
      ]
    },
    {
      "cell_type": "code",
      "source": [
        "for index, item in enumerate(some_list):\n",
        "  print(\"{}: {}\".format(index, item))"
      ],
      "metadata": {
        "colab": {
          "base_uri": "https://localhost:8080/"
        },
        "id": "exvSioWLVy-Y",
        "outputId": "a974959b-aaed-491a-cc83-a32e01a9bd2b"
      },
      "execution_count": 17,
      "outputs": [
        {
          "output_type": "stream",
          "name": "stdout",
          "text": [
            "0: 1\n",
            "1: 2\n",
            "2: something\n",
            "3: 6.2\n",
            "4: ['another', 'list!']\n",
            "5: 7321\n"
          ]
        }
      ]
    },
    {
      "cell_type": "code",
      "source": [
        "i = 0\n",
        "while i < 10:\n",
        "  print(i)\n",
        "  i += 2"
      ],
      "metadata": {
        "colab": {
          "base_uri": "https://localhost:8080/"
        },
        "id": "9rSrqizTWAQi",
        "outputId": "e036ea59-7f05-4f34-96df-e45f7f535314"
      },
      "execution_count": 18,
      "outputs": [
        {
          "output_type": "stream",
          "name": "stdout",
          "text": [
            "0\n",
            "2\n",
            "4\n",
            "6\n",
            "8\n"
          ]
        }
      ]
    },
    {
      "cell_type": "code",
      "source": [
        "list1 = [1, 2, 3]\n",
        "list2 = [4, 5, 6]\n",
        "list3 = [7, 8, 9]\n",
        "\n",
        "for x, y, z in zip(list1, list2, list3):\n",
        "  print(\"{} {} {}\".format(x, y, z))"
      ],
      "metadata": {
        "colab": {
          "base_uri": "https://localhost:8080/"
        },
        "id": "khCMJbYzWJgf",
        "outputId": "f7d630c4-b9fa-4578-a294-359ce151f2b4"
      },
      "execution_count": 19,
      "outputs": [
        {
          "output_type": "stream",
          "name": "stdout",
          "text": [
            "1 4 7\n",
            "2 5 8\n",
            "3 6 9\n"
          ]
        }
      ]
    },
    {
      "cell_type": "code",
      "source": [
        "for index, (x, y, z) in enumerate(zip(list1, list2, list3)):\n",
        "  print(\"{}: ({}, {}, {})\".format(index, x, y, z))"
      ],
      "metadata": {
        "colab": {
          "base_uri": "https://localhost:8080/"
        },
        "id": "xUz2jtqzWePL",
        "outputId": "8127b0db-be3f-4abc-e5ba-cf4434ed34bb"
      },
      "execution_count": 20,
      "outputs": [
        {
          "output_type": "stream",
          "name": "stdout",
          "text": [
            "0: (1, 4, 7)\n",
            "1: (2, 5, 8)\n",
            "2: (3, 6, 9)\n"
          ]
        }
      ]
    },
    {
      "cell_type": "code",
      "source": [
        "grade = 82\n",
        "if grade > 90:\n",
        "  print(\"A\")\n",
        "elif grade > 80:\n",
        "  print(\"B\")\n",
        "else:\n",
        "  print(\"Something else\")"
      ],
      "metadata": {
        "colab": {
          "base_uri": "https://localhost:8080/"
        },
        "id": "dpOdC96mWxuj",
        "outputId": "696de2b4-b309-4a1e-d246-02cfb38a09dd"
      },
      "execution_count": 21,
      "outputs": [
        {
          "output_type": "stream",
          "name": "stdout",
          "text": [
            "B\n"
          ]
        }
      ]
    },
    {
      "cell_type": "code",
      "source": [
        "list_of_data = [4.4, 1.2, 6898.32, \"bad data!\", 5280.24, 25.1, \"other bad data!\", 52.4]\n",
        "\n",
        "for x in list_of_data:\n",
        "  if type(x) == str:\n",
        "    continue\n",
        "\n",
        "  print(x)"
      ],
      "metadata": {
        "colab": {
          "base_uri": "https://localhost:8080/"
        },
        "id": "WDvPx83cZXp3",
        "outputId": "08d308ae-a2ae-49b4-fc86-8e1221cffef0"
      },
      "execution_count": 22,
      "outputs": [
        {
          "output_type": "stream",
          "name": "stdout",
          "text": [
            "4.4\n",
            "1.2\n",
            "6898.32\n",
            "5280.24\n",
            "25.1\n",
            "52.4\n"
          ]
        }
      ]
    },
    {
      "cell_type": "code",
      "source": [
        "import random\n",
        "\n",
        "i = 0\n",
        "iters = 0\n",
        "while True:\n",
        "  iters += 1\n",
        "  i += random.randint(0, 10)\n",
        "  if i > 1000:\n",
        "    break\n",
        "print(iters)"
      ],
      "metadata": {
        "colab": {
          "base_uri": "https://localhost:8080/"
        },
        "id": "EbruC7SbZyUc",
        "outputId": "3940f952-cc3b-4afa-fcbf-a0c9571bbae3"
      },
      "execution_count": 23,
      "outputs": [
        {
          "output_type": "stream",
          "name": "stdout",
          "text": [
            "211\n"
          ]
        }
      ]
    },
    {
      "cell_type": "markdown",
      "source": [
        "**File IO**"
      ],
      "metadata": {
        "id": "QWM2CqjDbf1_"
      }
    },
    {
      "cell_type": "code",
      "source": [
        "# Write to a text file\n",
        "text_to_write = \"I want to save this to a file.\"\n",
        "f = open(\"some_file.txt\", \"w\")\n",
        "f.write(text_to_write)\n",
        "f.close()"
      ],
      "metadata": {
        "id": "jfjTYbtQaH-l"
      },
      "execution_count": 24,
      "outputs": []
    },
    {
      "cell_type": "code",
      "source": [
        "f = open(\"some_file.txt\", \"r\")\n",
        "from_file = f.read()\n",
        "f.close()\n",
        "print(from_file)"
      ],
      "metadata": {
        "colab": {
          "base_uri": "https://localhost:8080/"
        },
        "id": "Tnmamiafb8ic",
        "outputId": "9ac1dfba-f242-4ea8-c2ca-f781cafc0b29"
      },
      "execution_count": 25,
      "outputs": [
        {
          "output_type": "stream",
          "name": "stdout",
          "text": [
            "I want to save this to a file.\n"
          ]
        }
      ]
    },
    {
      "cell_type": "code",
      "source": [
        "def some_function():\n",
        "  pass"
      ],
      "metadata": {
        "id": "vV-cSiBvcIV6"
      },
      "execution_count": 26,
      "outputs": []
    },
    {
      "cell_type": "code",
      "source": [
        "some_function()"
      ],
      "metadata": {
        "id": "17ryeIq6phT7"
      },
      "execution_count": 28,
      "outputs": []
    },
    {
      "cell_type": "code",
      "source": [
        "def vector_magnitude(vector):\n",
        "  d = 0.0\n",
        "  for x in vector:\n",
        "    d += x ** 2\n",
        "  return d ** 0.5"
      ],
      "metadata": {
        "id": "LTNI5NwgpihP"
      },
      "execution_count": 29,
      "outputs": []
    },
    {
      "cell_type": "code",
      "source": [
        "v1 = [1, 1]\n",
        "d1 = vector_magnitude(v1)\n",
        "print(d1)"
      ],
      "metadata": {
        "colab": {
          "base_uri": "https://localhost:8080/"
        },
        "id": "CtM3jPd5pu6J",
        "outputId": "11c62a45-fb8d-4c67-fa56-1d0f57027848"
      },
      "execution_count": 30,
      "outputs": [
        {
          "output_type": "stream",
          "name": "stdout",
          "text": [
            "1.4142135623730951\n"
          ]
        }
      ]
    },
    {
      "cell_type": "code",
      "source": [
        "v2 = [53.3, 13.4]\n",
        "d2 = vector_magnitude(v2)\n",
        "print(d2)"
      ],
      "metadata": {
        "colab": {
          "base_uri": "https://localhost:8080/"
        },
        "id": "q57OqGz0p0o0",
        "outputId": "13768915-7ed5-415d-cf89-4e9be096b449"
      },
      "execution_count": 31,
      "outputs": [
        {
          "output_type": "stream",
          "name": "stdout",
          "text": [
            "54.95862079783298\n"
          ]
        }
      ]
    },
    {
      "cell_type": "code",
      "source": [
        "import numpy as np\n",
        "\n",
        "X = np.random.random((500, 600, 250))"
      ],
      "metadata": {
        "id": "YTBCSRRNp8oq"
      },
      "execution_count": 33,
      "outputs": []
    },
    {
      "cell_type": "code",
      "source": [
        "X[:400, 100:200, 0].mean()"
      ],
      "metadata": {
        "colab": {
          "base_uri": "https://localhost:8080/"
        },
        "id": "udru1fQSxHYt",
        "outputId": "47bb03e0-f515-4094-b3d1-8dcef23ab6e8"
      },
      "execution_count": 34,
      "outputs": [
        {
          "output_type": "execute_result",
          "data": {
            "text/plain": [
              "0.5015790772790389"
            ]
          },
          "metadata": {},
          "execution_count": 34
        }
      ]
    },
    {
      "cell_type": "code",
      "source": [
        "X[X < 0.01].std()"
      ],
      "metadata": {
        "colab": {
          "base_uri": "https://localhost:8080/"
        },
        "id": "uYJXEEFnxQBw",
        "outputId": "dee13bc5-571d-4d03-e3de-807b8fbbd5bc"
      },
      "execution_count": 35,
      "outputs": [
        {
          "output_type": "execute_result",
          "data": {
            "text/plain": [
              "0.0028867859726107977"
            ]
          },
          "metadata": {},
          "execution_count": 35
        }
      ]
    },
    {
      "cell_type": "code",
      "source": [
        "X[:400, 100:200, 0].mean(axis = 1)"
      ],
      "metadata": {
        "id": "geJbbD27xURZ"
      },
      "execution_count": null,
      "outputs": []
    },
    {
      "cell_type": "code",
      "source": [
        "X[:400, 100:200, 0].mean(axis = 1).shape"
      ],
      "metadata": {
        "colab": {
          "base_uri": "https://localhost:8080/"
        },
        "id": "d-imfhYfxZ5m",
        "outputId": "a71d8e2b-6a78-43eb-91e6-52bc8876b258"
      },
      "execution_count": 37,
      "outputs": [
        {
          "output_type": "execute_result",
          "data": {
            "text/plain": [
              "(400,)"
            ]
          },
          "metadata": {},
          "execution_count": 37
        }
      ]
    },
    {
      "cell_type": "code",
      "source": [],
      "metadata": {
        "id": "uJgDXwAtxe0N"
      },
      "execution_count": null,
      "outputs": []
    }
  ]
}